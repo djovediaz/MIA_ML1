{
 "cells": [
  {
   "cell_type": "markdown",
   "id": "57c56216",
   "metadata": {
    "pycharm": {
     "name": "#%% md\n"
    }
   },
   "source": [
    "# Metrics\n",
    "\n",
    "We have used simple functions in the previous assignments, such as MSE in regression problems or accuracy in classification problems, to quantify the goodness-of-fit of the model. While in regression problems the functions are based on an error calculated in one way or another (mean error, mean square error, etc.), in classification problems other types of metrics can be derived depending on what the problem being solved is like. Many of these metrics, at least those that will be used in practice, are based on the calculation of the confusion matrix.\n",
    "\n",
    "A confusion matrix is a square matrix, with as many rows and columns as classes, showing the distribution of patterns in classes, and the classification performed by the model. Usually the rows show how the model has performed the classification, and the columns show the actual classification values, although this may vary depending on the source consulted.\n",
    "\n",
    "The simplest case corresponds to 2 classes, where one is considered \"negative\" and the other \"positive\". A two-class confusion matrix would be as follows:"
   ]
  },
  {
   "cell_type": "markdown",
   "id": "f2de2b5c",
   "metadata": {},
   "source": []
  },
  {
   "cell_type": "code",
   "execution_count": 41,
   "id": "f36c1274",
   "metadata": {
    "pycharm": {
     "name": "#%% raw\n"
    }
   },
   "outputs": [
    {
     "ename": "UndefVarError",
     "evalue": "UndefVarError: `Prediction` not defined",
     "output_type": "error",
     "traceback": [
      "UndefVarError: `Prediction` not defined\n"
     ]
    }
   ],
   "source": [
    "                         Prediction      \n",
    "                  +----------+----------+\n",
    "                  | Negative | Positive |\n",
    "       +----------+----------+----------+\n",
    "       | Negative |    TN    |    FP    |\n",
    "  Real +----------+----------+----------+\n",
    "       | Positive |    FN    |    TP    |\n",
    "       +----------+----------+----------+"
   ]
  },
  {
   "cell_type": "markdown",
   "id": "43f184c9",
   "metadata": {
    "pycharm": {
     "name": "#%% md\n"
    }
   },
   "source": [
    "This confusion matrix contains 4 values, which can be divided\n",
    "\n",
    "- according to the output of the model: positive or negative.\n",
    "- depending on whether the model is wrong or not: true or false. \n",
    "\n",
    "Thus, these 4 values are called true negatives (TN), false positives (FP), false negatives (FN) and true positives (TP). For example, false negatives would be the number of patterns that the system has classified as negative, and has been wrong because they were actually positive.\n",
    "\n",
    "From this confusion matrix, different metrics can be calculated. Depending on the problem you are working on, it will be more interesting to follow one or the other. Some of the most most commonly used metrics are:\n",
    "\n",
    "- **Accuracy**. Ratio of patterns in which the prediction is correct. Calculated as $$\\frac{TN+TP}{TN+TP+FN+FP}$$\n",
    "- **Error rate**. Ratio of patterns in which the prediction is wrong. Calculated as $$\\frac{FP+FN}{TN+TP+FN+FP}$$\n",
    "- **Sensitivity** or **recall**. Indicates the probability that a positive classification result is obtained for a positive case. It is calculated as $$\\frac{TP}{FN+TP}$$\n",
    "    - In a medical test, the test sensitivity represents the probability that a sick (positive) subject will have a positive test result.\n",
    "- **Specificity**. Indicates the probability that a negative classification result is obatined for a negative case. It is calculated as $$\\frac{TN}{FP+TN}$$\n",
    "    - The specificity of a test represents the probability that a healthy (negative) subject will have a negative test result.\n",
    "- **Precision** or **positive predictive value**. Ratio of positive patterns that have been correctly classified. Calculated as $$\\frac{TP}{TP+FP}$$\n",
    "- **Negative predictive value**. Ratio of positive patterns that have been correctly classified. Calculated as $$\\frac{TN}{TN+FN}$$\n",
    "- **F-score**, **F1-score** or **F-measurement**. It is defined as the harmonic mean of precision and recall.\n",
    "\n",
    "It is worth clarifying that these metrics, as well as others seen in theory class (ROC curve, Kappa index) are used to assess already trained classifiers, not to perform the training process. To be trained, each model has its own function to quantify the error or goodness of fit, such as the cross-entropy function in the case of neural networks.\n",
    "\n",
    "The accuracy is probably the most commonly used value, as it indicates the success rate of the classifier in a simple way. However, depending on the problem you are working with, it may not be the most appropriate metric. For example, in a mass population-based test for a disease where it is known that most people do not have the disease, a model that classifies everyone as negative (healthy) will have a very high accuracy, even though the model does not actually do anything.\n",
    "\n",
    "For this reason, it is necessary to assess which metric or metrics are the most used for each kind of problem. In many problems where the different classes are of equal importance, the accuracy value may be enough. However, in other problems, it may be of more interest to evaluate the situations in which a positive response is or should be produced by the model, as it could indicate something critical, such as detecting a disease or raising some kind of alarm. For this reason, sensitivity and positive predictive value values are often taken into account in addition to accuracy. There is a more extensive discussion of this in the theory notes, but a possible informal guide might be the following:\n",
    "\n",
    "- If you want to minimise the number of positives incorrectly classified as negative (e.g. maximise the number of correctly diagnosed sick subjects, or maximise the number of alarms given for risky situations), the indicated metric is sensitivity (recall).\n",
    "- If one wishes to minimise the number of samples incorrectly classified as positives (false positives, e.g. sick subjects diagnosed as healthy, or situations where an alarm should not has been raised but it was), the indicated metric is the positive predictive value (precision).\n",
    "\n",
    "Therefore, the most appropriate metric depends entirely on the specific problem, according to the relative importance of the classifier output and its behaviour. In this type of problem, the F-score is a metric that may be more useful than accuracy.\n",
    "\n",
    "Another issue to be considered is the data imbalance. Accuracy is a metric that gives a \"global\" view, which can be misleading when the distribution in classes is unbalanced. In these cases, F-score is a better metric. Having unbalanced databases is very common, which provides an extra argument for using F-score rather than accuracy.\n",
    "\n",
    "Finally, if you have more than two classes, it is possible to build a confusion matrix in a similar way by having one row and column per class. For example:\n"
   ]
  },
  {
   "cell_type": "code",
   "execution_count": 42,
   "id": "03ce5ee0",
   "metadata": {
    "pycharm": {
     "name": "#%% raw\n"
    }
   },
   "outputs": [
    {
     "ename": "UndefVarError",
     "evalue": "UndefVarError: `Prediction` not defined",
     "output_type": "error",
     "traceback": [
      "UndefVarError: `Prediction` not defined\n"
     ]
    }
   ],
   "source": [
    "             Prediction \n",
    "           +---+---+---+\n",
    "           | A | B | C |\n",
    "       +---+---+---+---+\n",
    "       | A |   |   |   |\n",
    "       +---+---+---+---+\n",
    "  Real | B |   |   |   |\n",
    "       +---+---+---+---+\n",
    "       | C |   |   |   |\n",
    "       +---+---+---+---+"
   ]
  },
  {
   "cell_type": "markdown",
   "id": "37f6a477",
   "metadata": {
    "pycharm": {
     "name": "#%% md\n"
    }
   },
   "source": [
    "In these cases, it is no longer possible to speak of positive or negative patterns, since there are more than two classes, nor to take values for sensitivity or positive predictive value. However, this confusion matrix can offer very interesting information when it comes to understanding how the model works, assessing which are the classes between which the model finds it easiest and most difficult to separate.\n",
    "\n",
    "### Question\n",
    "If the pattern set has been divided into training and test subsets, which subset should be used to calculated the confusion matrix?\n",
    "\n"
   ]
  },
  {
   "cell_type": "markdown",
   "id": "fdc6397f",
   "metadata": {
    "pycharm": {
     "name": "#%% md\n"
    }
   },
   "source": [
    "`The confusion matrix should be calculated using the test subset of the pattern set. The reasons of choosing that subset are the following: `\n",
    "\n",
    "`The test subset is used to evaluate how well the model generalizes to new, unseen data. Therefore, evaluating the model in the test set allows us to assess the model's performance in a unseen scenario`\n",
    "\n",
    "`If we calculate the confusion matrix on the training subset, we might get an overly optimistic view of the model's performance because the predictions have the exactly same patterns learned during training. So, if we use test set we can check if the model is overfitting to the train subset or it is able to generalize. `"
   ]
  },
  {
   "cell_type": "markdown",
   "id": "8354cd47",
   "metadata": {
    "pycharm": {
     "name": "#%% md\n"
    }
   },
   "source": [
    "In this assignment, you are asked to:\n",
    "\n",
    "1. Develop a function called `confusionMatrix` which takes two vectors of equal length (the number of patterns), the first one containing the outputs obtained by a model (`outputs`) and the second with the desired outputs (`targets`), both of type `AbstractArray{Bool,1}`. This function should return:\n",
    "    - Accuracy\n",
    "    - Error rate\n",
    "    - Sensitivity\n",
    "    - Specificity\n",
    "    - Positive predicitive value\n",
    "    - Negative predicitve value\n",
    "    - F-score\n",
    "    - Confusion matrix, as an object of type `Array{Int64,2}` with two rows and two columns\n",
    "    \n",
    "    As this function is being fed with boolean-valued vectors, it will be applicable to problems with two classes (positive and negative cases).\n",
    "\n",
    "    It is necessary to consider some particular situations when calculated the required classification metrics.\n",
    "    \n",
    "        - If every pattern is a true negative, neither the sensitivity nor the positive predictive value can be calculated. In this case the system works correctly, so these two metrics will be 1.\n",
    "        - Similarly, neither the specificity nor the negative predictive value can be obtained and if every pattern is a true positive, so both metrics have to be manually set to 1.\n",
    "        - If neither of these two cases has occurred and there is still any metric which cannot be calculated, it will take the value of 0. For example, if the sensitivity could not be calculated, it means that there was no pattern with a positive desired output.\n",
    "        - It both sensitivity and positive predictive values are equal to 0, the value of F-score cannot be obtained, and thus it will be 0.\n",
    "        \n",
    "    Do not use loops inside the developed function.\n"
   ]
  },
  {
   "cell_type": "code",
   "execution_count": 43,
   "id": "bd4df5f7",
   "metadata": {
    "pycharm": {
     "name": "#%%\n"
    }
   },
   "outputs": [
    {
     "data": {
      "text/plain": [
       "confusionMatrix (generic function with 2 methods)"
      ]
     },
     "metadata": {},
     "output_type": "display_data"
    }
   ],
   "source": [
    "function confusionMatrix(outputs::AbstractArray{Bool,1}, targets::AbstractArray{Bool,1})\n",
    "    output_len = length(outputs)\n",
    "    \n",
    "    @assert(output_len == length(targets))\n",
    " \n",
    "    \n",
    "    TP = sum(outputs .& targets)          # True Positives\n",
    "    TN = sum(.!outputs .& .!targets)        # True Negatives\n",
    "    FP = sum(outputs .& .!targets)         # False Positives\n",
    "    FN = sum(.!outputs .& targets)         # False Negatives\n",
    "\n",
    "    confusion_mat = [TN FP; FN TP]\n",
    "\n",
    "    total = output_len\n",
    "    \n",
    "    accuracy = total > 0 ? (TP + TN) / total : 1.0  # Set to 1.0 if there are no samples\n",
    "\n",
    "    # Error rate\n",
    "    error_rate = total > 0 ? (FP + FN) / total : 0.0\n",
    "\n",
    "    # Sensitivity\n",
    "    sensitivity = (TP + FN) > 0 ? TP / (TP + FN) : (TN == 0 ? 1.0 : 0.0)\n",
    "\n",
    "    # Specificity\n",
    "    specificity = (TN + FP) > 0 ? TN / (TN + FP) : (TP == 0 ? 1.0 : 0.0)\n",
    "\n",
    "    # Positive Predictive Value\n",
    "    positive_predictive_value = (TP + FP) > 0 ? TP / (TP + FP) : (TN == 0 ? 1.0 : 0.0)\n",
    "\n",
    "    # Negative Predictive Value\n",
    "    negative_predictive_value = (TN + FN) > 0 ? TN / (TN + FN) : (TP == 0 ? 1.0 : 0.0)\n",
    "\n",
    "    # F-score\n",
    "    if sensitivity == 0 && positive_predictive_value == 0\n",
    "        f_score = 0.0\n",
    "    else\n",
    "        f_score = 2 * (sensitivity * positive_predictive_value) / (sensitivity + positive_predictive_value)\n",
    "    end\n",
    "\n",
    "    return accuracy, error_rate, sensitivity, specificity, positive_predictive_value, negative_predictive_value, f_score, confusion_mat\n",
    "end"
   ]
  },
  {
   "cell_type": "markdown",
   "id": "1a06ad5b",
   "metadata": {},
   "source": [
    "#### Perfect clasification"
   ]
  },
  {
   "cell_type": "code",
   "execution_count": 44,
   "id": "13ab4cf9",
   "metadata": {},
   "outputs": [
    {
     "name": "stdout",
     "output_type": "stream",
     "text": [
      "Accuracy: 1.0\n",
      "Error rate: 0.0\n",
      "Sensitivity: 1.0\n",
      "Specificity: 1.0\n",
      "Precision (PPV): 1.0\n",
      "Negative Predictive Value (NPV): 1.0\n",
      "F1-Score: 1.0\n",
      "Confusion Matrix: \n",
      "[2 0; 0 2]\n"
     ]
    }
   ],
   "source": [
    "outputs = [true, false, true, false]\n",
    "targets = [true, false, true, false]\n",
    "\n",
    "accuracy, error_rate, sensitivity, specificity, ppv, npv, f_score, confusion_mat = confusionMatrix(outputs, targets)\n",
    "\n",
    "println(\"Accuracy: $accuracy\")\n",
    "println(\"Error rate: $error_rate\")\n",
    "println(\"Sensitivity: $sensitivity\")\n",
    "println(\"Specificity: $specificity\")\n",
    "println(\"Precision (PPV): $ppv\")\n",
    "println(\"Negative Predictive Value (NPV): $npv\")\n",
    "println(\"F1-Score: $f_score\")\n",
    "println(\"Confusion Matrix: \\n$confusion_mat\")\n"
   ]
  },
  {
   "cell_type": "markdown",
   "id": "b83f6a43",
   "metadata": {},
   "source": [
    "#### Imperfect clasification"
   ]
  },
  {
   "cell_type": "code",
   "execution_count": 45,
   "id": "cb5eabf4",
   "metadata": {},
   "outputs": [
    {
     "name": "stdout",
     "output_type": "stream",
     "text": [
      "Accuracy: 0.6\n",
      "Error rate: 0.4\n",
      "Sensitivity: 0.6666666666666666\n",
      "Specificity: 0.5\n",
      "Precision (PPV): 0.6666666666666666\n",
      "Negative Predictive Value (NPV): 0.5\n",
      "F1-Score: 0.6666666666666666\n",
      "Confusion Matrix: \n",
      "[1 1; 1 2]\n"
     ]
    }
   ],
   "source": [
    "outputs = [true, true, false, false, true]\n",
    "targets = [true, false, true, false, true]\n",
    "\n",
    "accuracy, error_rate, sensitivity, specificity, ppv, npv, f_score, confusion_mat = confusionMatrix(outputs, targets)\n",
    "\n",
    "println(\"Accuracy: $accuracy\")\n",
    "println(\"Error rate: $error_rate\")\n",
    "println(\"Sensitivity: $sensitivity\")\n",
    "println(\"Specificity: $specificity\")\n",
    "println(\"Precision (PPV): $ppv\")\n",
    "println(\"Negative Predictive Value (NPV): $npv\")\n",
    "println(\"F1-Score: $f_score\")\n",
    "println(\"Confusion Matrix: \\n$confusion_mat\")\n"
   ]
  },
  {
   "cell_type": "markdown",
   "id": "c99f035d",
   "metadata": {},
   "source": [
    "#### All true negatives"
   ]
  },
  {
   "cell_type": "code",
   "execution_count": 46,
   "id": "e0edb3df",
   "metadata": {},
   "outputs": [
    {
     "name": "stdout",
     "output_type": "stream",
     "text": [
      "Accuracy: 1.0\n",
      "Error rate: 0.0\n",
      "Sensitivity: 0.0\n",
      "Specificity: 1.0\n",
      "Precision (PPV): 0.0\n",
      "Negative Predictive Value (NPV): 1.0\n",
      "F1-Score: 0.0\n",
      "Confusion Matrix: \n",
      "[4 0; 0 0]\n"
     ]
    }
   ],
   "source": [
    "outputs = [false, false, false, false]\n",
    "targets = [false, false, false, false]\n",
    "\n",
    "accuracy, error_rate, sensitivity, specificity, ppv, npv, f_score, confusion_mat = confusionMatrix(outputs, targets)\n",
    "\n",
    "println(\"Accuracy: $accuracy\")\n",
    "println(\"Error rate: $error_rate\")\n",
    "println(\"Sensitivity: $sensitivity\")\n",
    "println(\"Specificity: $specificity\")\n",
    "println(\"Precision (PPV): $ppv\")\n",
    "println(\"Negative Predictive Value (NPV): $npv\")\n",
    "println(\"F1-Score: $f_score\")\n",
    "println(\"Confusion Matrix: \\n$confusion_mat\")\n"
   ]
  },
  {
   "cell_type": "markdown",
   "id": "720b35e9",
   "metadata": {
    "pycharm": {
     "name": "#%% md\n"
    }
   },
   "source": [
    "2. Many models (e.g. artificial neural networks) do not return a categorial output for each pattern, but the probability that it is \"positive\". For this reason, it is requested to develop a function with the same name as the previous one, whose first parameter is not a vector of boolean values but a vector of real values (of type `AbstractArray{<:Real}`). It also receives an optional third parameter with a threshold, with a default value, which is used to apply the previous function and return, therefore, the same values."
   ]
  },
  {
   "cell_type": "code",
   "execution_count": 47,
   "id": "2b7712ee",
   "metadata": {
    "pycharm": {
     "name": "#%%\n"
    }
   },
   "outputs": [
    {
     "data": {
      "text/plain": [
       "confusionMatrix (generic function with 2 methods)"
      ]
     },
     "metadata": {},
     "output_type": "display_data"
    }
   ],
   "source": [
    "function confusionMatrix(outputs::AbstractArray{<:Real, 1}, targets::AbstractArray{Bool, 1}; threshold::Real=0.5)\n",
    "    boolean_outputs = outputs .>= threshold\n",
    "    \n",
    "    return confusionMatrix(boolean_outputs, targets)\n",
    "end\n"
   ]
  },
  {
   "cell_type": "code",
   "execution_count": 48,
   "id": "62a91360",
   "metadata": {},
   "outputs": [
    {
     "name": "stdout",
     "output_type": "stream",
     "text": [
      "Accuracy: 1.0\n",
      "Confusion Matrix: \n",
      "[2 0; 0 2]\n"
     ]
    }
   ],
   "source": [
    "outputs_real = [0.8, 0.4, 0.6, 0.1]\n",
    "targets = [true, false, true, false]\n",
    "\n",
    "accuracy, error_rate, sensitivity, specificity, ppv, npv, f_score, confusion_mat = confusionMatrix(outputs_real, targets, threshold=0.5)\n",
    "\n",
    "println(\"Accuracy: $accuracy\")\n",
    "println(\"Confusion Matrix: \\n$confusion_mat\")\n"
   ]
  },
  {
   "cell_type": "markdown",
   "id": "3b1b8dad",
   "metadata": {
    "pycharm": {
     "name": "#%% md\n"
    }
   },
   "source": [
    "3. Develop two functions with the same name, `printConfusionMatrix`, that receive the model outputs and the desired outputs, call the previous functions and display the results obtained, including the confusion matrix. One of these functions shall receive a vector of model classifications (`outputs`) of type `AbstractArray{Bool,1}`, while for the other one this parameter shall be a vector of real values (of type `AbstractArray{<:Real}`). These functions will make calls to the previous functions."
   ]
  },
  {
   "cell_type": "markdown",
   "id": "68c3706d",
   "metadata": {},
   "source": [
    "#### For boolean outputs"
   ]
  },
  {
   "cell_type": "code",
   "execution_count": 49,
   "id": "90e01e78",
   "metadata": {
    "pycharm": {
     "name": "#%%\n"
    }
   },
   "outputs": [
    {
     "data": {
      "text/plain": [
       "printConfusionMatrix (generic function with 2 methods)"
      ]
     },
     "metadata": {},
     "output_type": "display_data"
    }
   ],
   "source": [
    "function printConfusionMatrix(outputs::AbstractArray{Bool, 1}, targets::AbstractArray{Bool, 1})\n",
    "    # Call the confusionMatrix function with boolean inputs\n",
    "    accuracy, error_rate, sensitivity, specificity, ppv, npv, f_score, confusion_mat = confusionMatrix(outputs, targets)\n",
    "    \n",
    "    # Print results\n",
    "    println(\"Confusion Matrix:\")\n",
    "    println(confusion_mat)\n",
    "    println(\"\\nMetrics:\")\n",
    "    println(\"Accuracy: $accuracy\")\n",
    "    println(\"Error Rate: $error_rate\")\n",
    "    println(\"Sensitivity: $sensitivity\")\n",
    "    println(\"Specificity: $specificity\")\n",
    "    println(\"Positive Predictive Value (Precision): $ppv\")\n",
    "    println(\"Negative Predictive Value: $npv\")\n",
    "    println(\"F-Score: $f_score\")\n",
    "end"
   ]
  },
  {
   "cell_type": "code",
   "execution_count": 50,
   "id": "e2f65c82",
   "metadata": {},
   "outputs": [
    {
     "name": "stdout",
     "output_type": "stream",
     "text": [
      "Confusion Matrix:\n",
      "[1 0; 1 2]\n",
      "\n",
      "Metrics:\n",
      "Accuracy: 0.75\n",
      "Error Rate: 0.25\n",
      "Sensitivity: 0.6666666666666666\n",
      "Specificity: 1.0\n",
      "Positive Predictive Value (Precision): 1.0\n",
      "Negative Predictive Value: 0.5\n",
      "F-Score: 0.8\n"
     ]
    }
   ],
   "source": [
    "outputs_bool = [true, false, true, false]\n",
    "targets = [true, false, true, true]\n",
    "\n",
    "printConfusionMatrix(outputs_bool, targets)"
   ]
  },
  {
   "cell_type": "markdown",
   "id": "e40b6de8",
   "metadata": {},
   "source": [
    "### For real values"
   ]
  },
  {
   "cell_type": "code",
   "execution_count": 51,
   "id": "13c6f9c8",
   "metadata": {
    "pycharm": {
     "name": "#%%\n"
    }
   },
   "outputs": [
    {
     "data": {
      "text/plain": [
       "printConfusionMatrix (generic function with 2 methods)"
      ]
     },
     "metadata": {},
     "output_type": "display_data"
    }
   ],
   "source": [
    "function printConfusionMatrix(outputs::AbstractArray{<:Real,1},targets::AbstractArray{Bool,1}; threshold::Real=0.5)\n",
    "    # Call the confusionMatrix function with real-valued outputs and a threshold\n",
    "    accuracy, error_rate, sensitivity, specificity, ppv, npv, f_score, confusion_mat = confusionMatrix(outputs, targets; threshold=threshold)\n",
    "    \n",
    "    # Print results\n",
    "    println(\"Confusion Matrix (Threshold = $threshold):\")\n",
    "    println(confusion_mat)\n",
    "    println(\"\\nMetrics:\")\n",
    "    println(\"Accuracy: $accuracy\")\n",
    "    println(\"Error Rate: $error_rate\")\n",
    "    println(\"Sensitivity: $sensitivity\")\n",
    "    println(\"Specificity: $specificity\")\n",
    "    println(\"Positive Predictive Value (Precision): $ppv\")\n",
    "    println(\"Negative Predictive Value: $npv\")\n",
    "    println(\"F-Score: $f_score\")\n",
    "end"
   ]
  },
  {
   "cell_type": "code",
   "execution_count": 52,
   "id": "d6ad96e7",
   "metadata": {},
   "outputs": [
    {
     "name": "stdout",
     "output_type": "stream",
     "text": [
      "Confusion Matrix (Threshold = 0.5):\n",
      "[1 0; 1 2]\n",
      "\n",
      "Metrics:\n",
      "Accuracy: 0.75\n",
      "Error Rate: 0.25\n",
      "Sensitivity: 0.6666666666666666\n",
      "Specificity: 1.0\n",
      "Positive Predictive Value (Precision): 1.0\n",
      "Negative Predictive Value: 0.5\n",
      "F-Score: 0.8\n"
     ]
    }
   ],
   "source": [
    "outputs_real = [0.8, 0.4, 0.6, 0.1]\n",
    "targets = [true, false, true, true]\n",
    "\n",
    "printConfusionMatrix(outputs_real, targets, threshold=0.5)\n"
   ]
  }
 ],
 "metadata": {
  "kernelspec": {
   "display_name": "Julia 1.10.5",
   "language": "julia",
   "name": "julia-1.10"
  },
  "language_info": {
   "file_extension": ".jl",
   "mimetype": "application/julia",
   "name": "julia",
   "version": "1.10.5"
  }
 },
 "nbformat": 4,
 "nbformat_minor": 5
}
