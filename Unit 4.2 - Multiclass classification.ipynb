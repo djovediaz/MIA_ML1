{
 "cells": [
  {
   "cell_type": "markdown",
   "id": "099a9523",
   "metadata": {},
   "source": [
    "# Multiclass classification\n",
    "\n",
    "When solving a classification problem, many existing machine learning models allow only two classes to be separated, usually referred to as \"positive\" and \"negative\". Positive patterns are commonly those related to what is to be detected, such as disease, alarm, or a type of object in an image. Negative patterns are often characterised by the absence of this characteristic that positive patterns have. To develop an ANN that classifies into two classes, a single neuron is needed in the output layer, with a logarithmic (or similar) sigmoidal transfer function, such that the output of the ANN will be between 0 and 1, and can be interpreted as the ANN's certainty in classifying a pattern as \"positive\". The classification into \"negative\" or \"positive\" is done in a simple way, by applying a threshold which is typically 0.5, although this can be changed.\n",
    "\n",
    "However, there are many occasions when a system that is able to classify into more than two classes is desired. A simple example is a system that wants to classify an image according to whether a dog, cat or mouse, or some other type of animal is observed. In this case, you want to develop a 4-class classification system: \"dog\"/\"cat\"/\"mouse\"/\"other\". If an ANN to distinguish between these 3 animals is required, an output neuron for each class is needed, including the \"other\" class (4 output neurons in total).\n",
    "\n",
    "In the multiclass classification scheme, as has been done in previous assignments, an encoding called one-hot-encoding is generally used, which is based on obtaining a boolean value for each pattern and each class, in such a way that each boolean value will be equal to 1 if that pattern belongs to that class, and 0 otherwise. When training an ANN with this scheme, each output neuron can be understood as a model specialised in classifying in a given class. In this type of networks, a linear transfer function is usually used in the output layer, whereby negative outputs indicate that a neuron does not classify the pattern into that class (i.e. from the point of view of that class it classifies it as \"negative\"), and positive outputs indicate that a neuron classifies the pattern as that class (i.e. from the point of view of that class it classifies it as \"positive\"). The absolute value of a neuron's output indicates that neuron's confidence in the classification. Finally, the softmax function receives these classification values and transforms them in such a way that they are between 0 and 1, and add up to 1, interpreted as the probability of belonging to each class. The pattern will be classified into the class whose output value is the highest. The softmax function is defined as follows: \n",
    "\n",
    "$$\n",
    "softmax(y^i) = \\frac{e^{y^i}}{\\sum_j{e^{y^j}}}\n",
    "$$\n",
    "\n",
    "where $y^i$ is the output of the $i$-th neuron. For example, in a 3-class classification problem, if the outputs from the 3 neurons are `[2, 1, 0.2]`, they would classify the inputs as belonging to their respective classes, although the first one with much greater certainty. After applying the softmax function, the respective probabilities will be `[0.65, 0.24, 0.11]`, so the pattern will be classified as the first class.\n",
    "\n",
    "In this way, the softmax function converts the real values produced by the output neurons into probability values, so that the more negative a value is (the more certainty of not belonging to that class), the closer it is to 0, and the more positive a value is (the more certainty of belonging to that class), the closer it is to 1. As indicated above, the sum of output probabilities will be equal to 1. Because of this fact, a fourth special class \"other\" is needed in the example above and in any other example where a pattern may not belong to any of the predefined classes.\n",
    "\n",
    "### Question\n",
    "\n",
    "Why is this extra class necessary when using the softmax function?"
   ]
  },
  {
   "cell_type": "markdown",
   "id": "ad46fa6d",
   "metadata": {},
   "source": [
    "`In many real-world applications, patterns may not fit neatly into any of the predefined classes. The \"other\" class allows the model to capture cases where an input does not belong to any of the known categories. Without this class, the model may force a classification into one of the existing categories, even when it may not be appropriate.` \n",
    "\n",
    "`The next chunk of code simulates the output of an ANN with softmax like activation function. This case represents an output in which negative values suggest that the ANN is not sure about classifying the input as belonging to any of the classes. However, after aplying the softmax function to is values, we obtain a confident prediction, that is not desirable. By adding an extra class defined as other and showing to the model examples of this types of data, if the ANN is not sure about the output class, the model should return a more confident value to the other class `\n"
   ]
  },
  {
   "cell_type": "code",
   "execution_count": 230,
   "id": "76c68d64",
   "metadata": {},
   "outputs": [
    {
     "data": {
      "text/plain": [
       "3-element Vector{Float64}:\n",
       " 0.23665609135556684\n",
       " 0.23665609135556684\n",
       " 0.5266878172888664"
      ]
     },
     "metadata": {},
     "output_type": "display_data"
    }
   ],
   "source": [
    "softmax(x) = exp.(x) ./ sum(exp.(x))\n",
    "softmax([-1, -1, -0.2])"
   ]
  },
  {
   "cell_type": "markdown",
   "id": "749072c5",
   "metadata": {},
   "source": [
    "### Question\n",
    "\n",
    "Might it not be necessary to create the additional class? What modification would have to be made to the ANN? How would the output be interpreted? How would the output class be generated based on the outputs of the output neurons?"
   ]
  },
  {
   "cell_type": "markdown",
   "id": "8fd54309",
   "metadata": {},
   "source": [
    "`We can make a modification in the output layer with the purpose of not creating an additional class. That modificaton might be use sigmoid outputs instead of softmax. Using sigmoid activation functions in the output layer allows for the classification of each class independently. Each output neuron can indicate the presence or absence of a class, rather than competing with each other as they would with softmax. With that modification we can define a threshold from which we can trust in the prediction `"
   ]
  },
  {
   "cell_type": "markdown",
   "id": "b7bb4d94",
   "metadata": {},
   "source": [
    "### Question\n",
    "\n",
    "In general, how does the output of a model have to be in order not to need this fourth class?\n",
    "\n"
   ]
  },
  {
   "cell_type": "markdown",
   "id": "4147d60f",
   "metadata": {},
   "source": [
    "`It's necessary to highlight that this configuration of the model presented above can only be developed if the classes ar not mutually exclusive classes, where a single input can belong to multiple classes simultaneously.`"
   ]
  },
  {
   "cell_type": "markdown",
   "id": "cf440c48",
   "metadata": {},
   "source": [
    "### Question\n",
    "\n",
    "Does a kNN model need this fourth class?"
   ]
  },
  {
   "cell_type": "markdown",
   "id": "dc3524cd",
   "metadata": {},
   "source": [
    "`It is not possible to use a fourth class without having concrete examples of that class with a knn model.`"
   ]
  },
  {
   "cell_type": "markdown",
   "id": "e0ac9061",
   "metadata": {},
   "source": [
    "### Question\n",
    "\n",
    "How many classes would be necessary if an ANN wanted to recognise those 3 types of animals, and, if it is not one of them, to say whether it is an animal or not? What if the model is a kNN?"
   ]
  },
  {
   "cell_type": "markdown",
   "id": "89ab0b18",
   "metadata": {},
   "source": [
    "`For an ANN, we would need 4 classes and use sigmoid activation function in the last layer due to the fact that the classes are not mutually exclusive because when an example is a example of one of the classes it is an animal too. So, we should have an is animal class, and a threshold. If all the output probabilities are under that threshold we can conclude that the example is not an animal `\n",
    "\n",
    "`In order to build a kNN model to solve that problem. We would need the 5 classes like in ANN, and concreate examples for all the 5 classes. That second constraint would be impossible because we can't have samples of all the animals or all other things that could appear`"
   ]
  },
  {
   "cell_type": "markdown",
   "id": "3c98bc2c",
   "metadata": {},
   "source": [
    "Therefore, the \"positive\"/\"negative\" scheme no longer applies if more than two classes are required. The problem in these cases is that many of the machine learning models are only capable of separating two classes, so theoretically they could not be used. An example of such systems are Support Vector Machines (SVM), which are discussed in more detail in the theory class. Modifications have been made to the formulation of this model to allow multi-class classifications; however, in practice they are not commonly used, and instead a strategy that allows binary SVMs to be used to classify into multiple classes is often employed.\n",
    "\n",
    "There are two main strategies for converting multi-class problems into binary classification problems. These strategies are called \"one-against-one\" or \"one-against-all\". Both are explained in theory class, but since \"one-against-all\" is much more widely used, this strategy will be used in the following.\n",
    "\n",
    "The \"one-against-all\" strategy is based on generating L binary classifiers for a classification problem of L classes, one per class. In the l-th problem, class l must be separated from the rest, i.e., the patterns belonging to that class will be considered \"positive\", and those not belonging to it will be considered \"negative\". Continuing with the previous example of animals, 3 different classification problems would have to be solved: one to classify \"dog\"/\"not dog\", one to classify \"cat\"/\"not cat\", and one to classify \"mouse\"/\"not mouse\". Three classifiers would therefore be trained with the same inputs but with different desired outputs for each problem.\n",
    "\n",
    "### Question\n",
    "\n",
    "In the previously described problem, 4 classes were used for these 3 animals, including the class \"other\". Why not train a classifier for this class in a \"one-against-all\" scheme?"
   ]
  },
  {
   "cell_type": "markdown",
   "id": "6b90226b",
   "metadata": {},
   "source": [
    "`In a \"one-against-all\" strategy, it is unnecessary to train a specific classifier for the \"other\" class. The \"other\" category is naturally derived by the fact that none of the main classifiers (dog, cat, mouse) have classified the pattern as one of the main classes. Therefore, training an additional classifier for \"other\" would introduce redundancy and ambiguity, making the classification process less efficient.`"
   ]
  },
  {
   "cell_type": "markdown",
   "id": "72bc8ae7",
   "metadata": {},
   "source": [
    "Once the binary classifiers are trained, any given pattern is fed into all the classifiers and, depending on the output, a decision is made. If only one of the systems has positive output, or none of the three classifies it as positive, the decision is clear. However, sometimes more than one classifier will give a positive output for the same pattern. Fortunately, many classifiers give information about the level of certainty or confidence they have that the pattern is classified as \"positive\". If more than one binary model classifies the pattern as positive, it will be assigned to the class corresponding to the classifier that has a higher certainty in its classification."
   ]
  },
  {
   "cell_type": "markdown",
   "id": "48231191",
   "metadata": {},
   "source": [
    "### Question\n",
    "\n",
    "Would it be possible to use the outputs of those 3 classifiers as the input of the softmax function? What would be the consequences?"
   ]
  },
  {
   "cell_type": "markdown",
   "id": "5275a1a7",
   "metadata": {},
   "source": [
    "`While it is possible to use softmax on the outputs of the three binary classifiers, it may not be the best approach. Applying softmax forces the model to choose one class, even when none of the classifiers is confident, and it eliminates the flexibility of handling uncertain classifications or assigning the pattern to an \"other\" category when the 3 classifiers have made an underconfident predicton`"
   ]
  },
  {
   "cell_type": "markdown",
   "id": "d515fedd",
   "metadata": {},
   "source": [
    "### Question\n",
    "\n",
    "In general, when there are L classes and a pattern may not belong to any of them, what is the impact of using the softmax function on the outputs? In which cases could it be used? Why?"
   ]
  },
  {
   "cell_type": "markdown",
   "id": "ca2e084f",
   "metadata": {},
   "source": [
    "`In cases where patterns may not fit into predefined classes, the softmax function will do a confident prediction of one of the L classes. Softmax is best suited for scenarios where the classification classes are mutually exclusive and we are certain that all samples belong to one of the L classes`"
   ]
  },
  {
   "cell_type": "markdown",
   "id": "47b305cf",
   "metadata": {},
   "source": [
    "### Question\n",
    "\n",
    "The softmax function is useful to get a loss value to train the ANN. However, if it were not used in the animal example above, would the fourth class \"other\" be necessary?"
   ]
  },
  {
   "cell_type": "markdown",
   "id": "98db9733",
   "metadata": {},
   "source": [
    "`If the output neurons used sigmoid activation functions instead of softmax, each output neuron could independently indicate the presence of its respective class (dog, cat, mouse). The \"other\" class might not be necessary if the model can output probabilities for each class without overlap.`"
   ]
  },
  {
   "cell_type": "markdown",
   "id": "62d451a0",
   "metadata": {},
   "source": [
    "Finally, it is necessary to consider a different scenario when assigning patterns to classes. So far, and in most situations, the classes considered are mutually exclusive, i.e. in the example above, an animal is either a dog, a cat, a mouse, or none of the 3, but it cannot be of several classes at the same time. This is the most common case, but occasionally a problem will have classes that are not mutually exclusive. For example, when classifying animal sounds according to the animal that makes them, it may happen that several animals are mixed in one sound. In these cases, the use of a linear transfer function in the last layer together with the softmax function would not work, since, naturally, the sum of the probabilities of belonging to the classes may be greater than 1 (it may belong to several classes at the same time). For these cases, the scheme that can be used to train ANNs is to use logarithmic sigmoidal transfer functions in the last layer (instead of linear), which give an output between 0 and 1, and not to perform transformation using the softmax function. In this way, the final output of each output neuron is independent of the rest of the output neurons, and more than one can take values close to 1. The output of each neuron would again be interpreted as the probability of belonging to that class, but in this case the sum of the probabilities does not have to be 1 (they are independent). Not applying the softmax function has two advantages: the first, already mentioned, is that it allows classification into non-mutually exclusive classes; the second is that an additional class (\"other\" in the example above) is no longer needed for cases where a set of inputs may not belong to any of the given classes.\n",
    "\n",
    "### Question\n",
    "\n",
    "Why is this extra class no longer needed?"
   ]
  },
  {
   "cell_type": "markdown",
   "id": "12e98cd7",
   "metadata": {},
   "source": [
    "`Using logarithmic sigmoid functions, it is not needed a separate \"other\" class because the model inherently has the capability to express uncertainty or non-belonging through the independent outputs of each class neuron.`"
   ]
  },
  {
   "cell_type": "markdown",
   "id": "c9523cc3",
   "metadata": {},
   "source": [
    "Given a set of inputs, as always, it is classified into the class whose output neuron has shown the highest confidence. This scheme of non-mutually exclusive outputs is similar to the \"one-against-all\" scheme, in which one classifier per class is trained in parallel. The classifiers are independent and the final class is that of the classifier that has the highest certainty of belonging to that class. If all classifiers return \"negative\" as a classification and there is no possibility of not belonging to any class, the classifier with the lowest certainty of being negative is classified in the corresponding class. If all classifiers return \"negative\" as a classification and there is a possibility of non-class membership, it is simply classified as \"other\".\n",
    "\n",
    "The following table shows a summary of the different scenarios when using an ANN to solve a classification problem. Note that in the case of binary classification, the possibility that a set of entries do not belong to any class is not considered, since in this case we would be in multi-class classification."
   ]
  },
  {
   "cell_type": "code",
   "execution_count": 231,
   "id": "060690b8",
   "metadata": {},
   "outputs": [
    {
     "ename": "Base.Meta.ParseError",
     "evalue": "ParseError:\n# Error @ /home/djove/Documents/MIA/ML1/MIA_ML1/jl_notebook_cell_df34fa98e69747e1a8f8a730347b8e2f_X32sZmlsZQ==.jl:1:2\n+----------------+-----------+-------------+-------------+-------------+--------------+---------+----------------+\n#└┘ ── not a unary operator",
     "output_type": "error",
     "traceback": [
      "ParseError:\n",
      "# Error @ /home/djove/Documents/MIA/ML1/MIA_ML1/jl_notebook_cell_df34fa98e69747e1a8f8a730347b8e2f_X32sZmlsZQ==.jl:1:2\n",
      "+----------------+-----------+-------------+-------------+-------------+--------------+---------+----------------+\n",
      "#└┘ ── not a unary operator\n",
      "\n",
      "Stacktrace:\n",
      " [1] top-level scope\n",
      "   @ ~/Documents/MIA/ML1/MIA_ML1/jl_notebook_cell_df34fa98e69747e1a8f8a730347b8e2f_X32sZmlsZQ==.jl:1"
     ]
    }
   ],
   "source": [
    "+----------------+-----------+-------------+-------------+-------------+--------------+---------+----------------+\n",
    "|                |           |  Is extra   |   Transfer  |   Output    |   Function   |         |                |\n",
    "|                |           | class added |  function   |    range    |   applied    |  Final  |  Which classes |\n",
    "|                |           |  if it can  |   of the    |   of the    |    to the    | output  |  it classifies |\n",
    "|                |           | not belong  |   output    |   output    |   outputs    |  range  |      into?     |\n",
    "|                |           |  to any of  |    layer    |    neuron   | (additional  |         |                |\n",
    "|                |           |  the given? |             |             |    layer)    |         |                |\n",
    "+----------------+-----------+-------------+-------------+-------------+--------------+---------+----------------+\n",
    "|                |           |             |             |             |              |         |   \"negative\"/  |\n",
    "|                |           |             |             |             |              |         |   \"positive\"   |\n",
    "|                |           |             |             |             |              |         | if the output  |\n",
    "|     Binary     |           |             | Logarithmic |             |              |         |  is greater or |\n",
    "| classification |           |      -      |   sigmoid   |    [0,1]    |       -      |  [0,1]  |   equal to a   |\n",
    "|                |           |             |             |             |              |         |   threshold    |\n",
    "|                |           |             |             |             |              |         |    (0,5 for    |\n",
    "|                |           |             |             |             |              |         |   outputs in   |\n",
    "|                |           |             |             |             |              |         |     [0,1])     |\n",
    "+----------------+-----------+-------------+-------------+-------------+--------------+---------+----------------+\n",
    "|                |  Mutually |             |             |             |              |         |   Class whose  |\n",
    "|                | exclusive |     Yes     |    Linear   | [-inf,+inf] |    softmax   |  [0,1]  |   output is    |\n",
    "|                |  classes  |             |             |             |              |         |   closer to 1  |\n",
    "|                +-----------+-------------+-------------+-------------+--------------+---------+----------------+\n",
    "|                |           |             |             |             |              |         | Classes whose  |\n",
    "|                |           |             |             |             |              |         |   output is    |\n",
    "|                |           |             |             |             |              |         |   greater or   |\n",
    "|   Multiclass   |    Not    |             |             |             |              |         |   equal to a   |\n",
    "|                |  mutually |             |             |             |              |         |   threshold    |\n",
    "|                | exclusive |      No     | Logarithmic |    [0,1]    |       -      |  [0,1]  |    (0,5 for    |\n",
    "|                |  classes  |             |   sigmoid   |             |              |         |   outputs in   |\n",
    "|                |           |             |             |             |              |         |     [0,1]).    |\n",
    "|                |           |             |             |             |              |         |  It could be   |\n",
    "|                |           |             |             |             |              |         |   several or   |\n",
    "|                |           |             |             |             |              |         |   none at all  |\n",
    "+----------------+-----------+-------------+-------------+-------------+--------------+---------+----------------+"
   ]
  },
  {
   "cell_type": "markdown",
   "id": "5150c3ec",
   "metadata": {},
   "source": [
    "In the case of using a \"one-against-all\" strategy, this would be similar to the last row, except that the interval would not necessarily be `[0, 1]`, but would be conditioned by the model used, and therefore the threshold as well. For example, the outputs of a SVM range from $-\\infty$ to $+\\infty$, so the typical threshold is set to 0.\n",
    "\n",
    "Another factor to consider when dealing with multiclass problems is the performance metric. Most of the metrics studied (PPV, sensitivity, etc.) correspond to binary classification problems. When the number of classes is greater than 2, these metrics can still be used; however, their use is slightly different.\n",
    "\n",
    "When the number of classes is greater than two, the PPV, NPV, sensitivity and specificity metrics can be calculated separately for each class. Thus, from the point of view of a particular class, that class will be referred to as the positive class and the rest of classes will be put together in the negative class. In this way, from the exclusive point of view of that class, TP, TN, FP and FN can be calculated, and from them the sensitivity, specificity, PPV and NPV values for that particular class, and finally the F-score value. This way of treating classes separately is similar to the development of several classifiers in the \"one-against-all\" strategy (in the case of training binary classifiers that do not allow multi-class classification). Once these values have been calculated, they can be combined into a single value that will be used to evaluate the performance of the classifier. In this regard, there are 3 strategies: macro, weighted, and micro. We will use only the first two:\n",
    "\n",
    "- **Macro**. In this strategy, those metrics such as the PPV or the F-score are calculated as the arithmetic mean of the metrics of each class. As it is an arithmetic average, it does not consider the possible imbalance between classes.\n",
    "- **Weighted**. In this stratey, the metrics corresponding to each class are averaged, weighting them with the number of patterns that belong (desired output) to each class. It is therefore suitable when classes are unbalanced.\n",
    "- **Micro**. TP, FN, and FP are calculated globally. When the classes are not mutually exclusive, the micro-PPV or micro-F-score is equal to the accuracy value. Therefore, this metric is useful when there are mutually exclusive classes. \n",
    "\n",
    "In this assignment, you are asked to:\n",
    "\n",
    "1. Develop the code necessary to perform a \"one-against-all\" strategy. Although it is not necessary to develop it for multiclass classification with ANNs, it will be used in future assignments. A simple way of doing it is the following:\n",
    "\n",
    "    - Calculate the number of classes and create a 2-dimensional matrix of real values, with as many rows as patterns and as many columns as classes.\n",
    "    \n",
    "    ```Julia\n",
    "    outputs = Array{Float32,2}(undef, numInstances, numClasses);\n",
    "    ```\n",
    "    \n",
    "    - Make a loop that iterates over each class. Inside this loop, the desired outputs corresponding to that class are created and the corresponding model is trained with those inputs and the new desired outputs corresponding to that class. In other words, a model is created for each class that indicates whether or not the pattern belongs to that class. Subsequently, this model is applied to the inputs (training and/or test) to calculate the outputs, which will be copied into the previously created matrix. The code would be similar to the following, in which a supposed fit function has been used to train a binary classification model:\n",
    "    \n",
    "    ```Julia\n",
    "    for numClass in 1:numClasses\n",
    "        model = fit(inputs, targets[:,[numClass]]); outputs[:,numClass] .= model(inputs);\n",
    "    end;\n",
    "    ```\n",
    "    \n",
    "    ### Question\n",
    "\n",
    "    In this code it has also been assumed that `targets` is of type `AbstractArray{Bool,2}`. How could this be done if it were a vector with classes of any type (e.g. containing [\"car\", 17, \"motorbike\"]), i.e. of type Array{Any,1}?\n",
    "    \n",
    "    `To handle targets as an array of any type (Array{Any,1}), the process would involve encoding the classes into a binary matrix where each row represents whether a pattern belongs to a given class or not. This can be done using one-hot encoding.`\n",
    "    <br/>\n",
    "    \n",
    "     - Once the outputs are in the `outputs` matrix, the highest value is taken for each row (each pattern), i.e. the class of the model that has the highest certainty that it belongs to \"its\" class is taken.\n",
    "    \n",
    "        - Optionally, the softmax function can be passed. The end result is the same: the class with the highest value will be taken. However, the softmax function allows you to interpret the outputs as the probability of belonging to each class. One problem in using softmax is that it is prepared for use with ANNs, so it expects each pattern to be in a row. To solve this, you would have to transpose the outputs matrix and transpose the result back, as follows:\n",
    "        \n",
    "        ```Julia\n",
    "        outputs = softmax(outputs')';\n",
    "        ```\n",
    "        \n",
    "     - To take the highest output for each class, it can be done in a similar way as in practice 2 the accuracy was calculated in the case of having more than 2 classes and the patterns arranged in a row. The code could be similar to the following:\n",
    "     \n",
    "     ```Julia\n",
    "     vmax = maximum(outputs, dims=2);\n",
    "     outputs = (outputs .== vmax);\n",
    "     ```\n",
    "     In this way, a matrix of Boolean outputs is generated with the class to which each pattern belongs, which can be used to compare with the target matrix to calculate the different performance metrics.\n",
    "     \n",
    "     ### Question\n",
    "     \n",
    "     The last piece of code may present problems in case several models generate the same output. Where would the problem be, and how would it could be solved?"
   ]
  },
  {
   "cell_type": "markdown",
   "id": "d8132c5a",
   "metadata": {},
   "source": [
    "`This code checks which class has the maximum output for each pattern, but in the case of ties, it would return multiple true values for a single pattern, which is problematic because each pattern should be assigned to only one class.`"
   ]
  },
  {
   "cell_type": "markdown",
   "id": "14a7d283",
   "metadata": {},
   "source": [
    "2. Develop a function called `confusionMatrix` (same name as in the previous assignment) that returns the values of the metrics adapted to the condition of having more than two classes. To do so, include an additional parameter that allows to calculate them in the *macro* and *weighted* forms.\n",
    "\n",
    "    This function should receive two matrices: model outputs (`outputs`) and desired outputs (`targets`), both of Boolean elements and dimension 2, with each pattern in a row and each class in a column. The first thing this function should do is to check that the number of columns of both matrices is equal and is different from 2. In case they have only one column, these columns are taken as vectors and the confusionMatrix function developed in the previous assignment is called.\n",
    "    \n",
    "    ### Question\n",
    "    \n",
    "    Why are two-column matrices invalid?\n",
    "    \n",
    "    `Binary classification typically evaluates metrics based on a single positive class, while treating the other class as negative. In contrast, when there are more than two classes, each class must be treated independently to compute metrics, requiring a multiclass approach.`\n",
    "    \n",
    "    If both matrices have more than 2 columns, the following steps can be followed:\n",
    "    \n",
    "    - Reserve memory for the sensitivity, specificity, PPV, NPV and F-score vectors, with one value per class, initially equal to 0. To do this, the `zeros` function can be used.\n",
    "    \n",
    "    - Iterate for each class, and, if there are patterns in that class, make a call to the `confusionMatrix` function of the previous assignment passing as vectors the columns corresponding to the class of that iteration of the outputs and targets matrices. Assign the result to the corresponding element of the sensitivity, specificity, PPV, NPV and F1 vectors.\n",
    "    - Reserve memory for the confusion matrix.\n",
    "    - Perform a double loop in which booth loops iterate over the classes, to fill all the confusion matrix elements.\n",
    "    - Aggregate the values of sensitivity, specificity, PPV, NPV, and F-score for eachclass into a single value according to the *macro* or *weighed* strategy, as specified in the input argument.\n",
    "    - Finally, calculate the accuracy value with the `accuracy` function developed in a previous assignment, and calculate the error rate from this value."
   ]
  },
  {
   "cell_type": "code",
   "execution_count": 233,
   "id": "d3d7baf9",
   "metadata": {},
   "outputs": [],
   "source": [
    "include(\"./libFunctions.jl\")\n",
    "using Statistics\n"
   ]
  },
  {
   "cell_type": "code",
   "execution_count": 234,
   "id": "dde65a04",
   "metadata": {},
   "outputs": [
    {
     "data": {
      "text/plain": [
       "confusionMatrix (generic function with 6 methods)"
      ]
     },
     "metadata": {},
     "output_type": "display_data"
    }
   ],
   "source": [
    "function confusionMatrix(outputs::AbstractArray{Bool, 2}, targets::AbstractArray{Bool, 2}; weighted::Bool = true)\n",
    "    @assert size(outputs) == size(targets)\n",
    "    @assert size(outputs, 2) != 2\n",
    "\n",
    "    numClasses = size(outputs, 2)\n",
    "    \n",
    "    if numClasses == 1\n",
    "        return confusionMatrix(outputs[:, 1], targets[:, 1])\n",
    "    end\n",
    "    \n",
    "    sensitivity   = zeros(Float64, numClasses)\n",
    "    specificity   = zeros(Float64, numClasses)\n",
    "    PPV           = zeros(Float64, numClasses)\n",
    "    NPV           = zeros(Float64, numClasses)\n",
    "    Fscore        = zeros(Float64, numClasses)\n",
    "\n",
    "    globalCMatrix = zeros(Int, numClasses, numClasses)\n",
    "\n",
    "    for realClass in 1:numClasses\n",
    "        if sum(targets[:, realClass]) > 0\n",
    "            for predictedClass in 1:numClasses\n",
    "                coincidences = sum(targets[:, realClass] .& outputs[:, predictedClass])\n",
    "                globalCMatrix[realClass, predictedClass] = coincidences\n",
    "            end\n",
    "\n",
    "            outputsVector = outputs[:, realClass]\n",
    "            targetsVector = targets[:, realClass]\n",
    "            \n",
    "            metrics = confusionMatrix(outputsVector, targetsVector)\n",
    "            sensitivity[realClass] = metrics[3]  # Recall\n",
    "            specificity[realClass] = metrics[4]\n",
    "            PPV[realClass]         = metrics[5]\n",
    "            NPV[realClass]         = metrics[6]\n",
    "            Fscore[realClass]      = metrics[7]\n",
    "        end\n",
    "    end\n",
    "\n",
    "    if weighted\n",
    "        classWeights = sum(targets, dims=1) ./ size(targets, 1)\n",
    "        sensitivityMean = sum(classWeights[1, :] .* sensitivity)\n",
    "        specificityMean = sum(classWeights[1, :] .* specificity)\n",
    "        PPVMean         = sum(classWeights[1, :] .* PPV)\n",
    "        NPVMean         = sum(classWeights[1, :] .* NPV)\n",
    "        FscoreMean      = sum(classWeights[1, :] .* Fscore)\n",
    "    else\n",
    "        sensitivityMean = mean(sensitivity)\n",
    "        specificityMean = mean(specificity)\n",
    "        PPVMean         = mean(PPV)\n",
    "        NPVMean         = mean(NPV)\n",
    "        FscoreMean      = mean(Fscore)\n",
    "    end\n",
    "\n",
    "    accuracyVal = mean(outputs .== targets)\n",
    "    err_rate = 1.0 - accuracyVal\n",
    "\n",
    "    return (accuracyVal, err_rate, sensitivityMean, specificityMean, PPVMean, NPVMean, FscoreMean, globalCMatrix)\n",
    "end\n"
   ]
  },
  {
   "cell_type": "code",
   "execution_count": 235,
   "id": "648bcfa6",
   "metadata": {},
   "outputs": [
    {
     "name": "stdout",
     "output_type": "stream",
     "text": [
      "Accuracy: 0.7777777777777778\n",
      "Error Rate: 0.2222222222222222\n",
      "Mean Sensitivity: 0.6666666666666666\n",
      "Mean Specificity: 0.8833333333333333\n",
      "Mean PPV: 0.75\n",
      "Mean NPV: 0.7916666666666666\n",
      "Mean F-score: 0.6777777777777778\n",
      "Global Confusion Matrix: \n",
      "[1 0 1; 1 2 0; 0 0 1]\n"
     ]
    }
   ],
   "source": [
    "# Function test\n",
    "outputs = [\n",
    "    0 1 0;\n",
    "    1 0 0;\n",
    "    0 0 1;\n",
    "    0 1 0;\n",
    "    0 0 1;\n",
    "    1 0 0]\n",
    "\n",
    "targets = [\n",
    "    0 1 0;\n",
    "    0 1 0;\n",
    "    0 0 1;\n",
    "    0 1 0;\n",
    "    1 0 0;\n",
    "    1 0 0]\n",
    "\n",
    "# Convert to bool\n",
    "encodedOutputs = outputs .== 1\n",
    "encodedTargets = targets .== 1\n",
    "\n",
    "accuracyVal, err_rate, sensitivityMean, specificityMean, PPVMean, NPVMean, FscoreMean, globalCMatrix = \n",
    "confusionMatrix(encodedOutputs, encodedTargets, weighted=true)\n",
    "# Print the results\n",
    "println(\"Accuracy: \", accuracyVal)\n",
    "println(\"Error Rate: \", err_rate)\n",
    "println(\"Mean Sensitivity: \", sensitivityMean)\n",
    "println(\"Mean Specificity: \", specificityMean)\n",
    "println(\"Mean PPV: \", PPVMean)\n",
    "println(\"Mean NPV: \", NPVMean)\n",
    "println(\"Mean F-score: \", FscoreMean)\n",
    "println(\"Global Confusion Matrix: \")\n",
    "println(globalCMatrix)"
   ]
  },
  {
   "cell_type": "markdown",
   "id": "fd51e054",
   "metadata": {},
   "source": [
    "3. Develop another function called `confusionMatrix` in which the first parameter `outputs` is of type `AbstractArray{<:Real,2}`, and `targets` is of type `AbstractArray{Bool,2}` (the same as before). What this function should do is to convert the first parameter to an array of boolean values (using the function `classifyOutputs`) and call the previous function."
   ]
  },
  {
   "cell_type": "code",
   "execution_count": 236,
   "id": "4bef0d58",
   "metadata": {},
   "outputs": [
    {
     "data": {
      "text/plain": [
       "confusionMatrix (generic function with 6 methods)"
      ]
     },
     "metadata": {},
     "output_type": "display_data"
    }
   ],
   "source": [
    "function confusionMatrix(outputs::AbstractArray{<:Real, 2}, targets::AbstractArray{Bool, 2}; weighted::Bool = true)\n",
    "    # Convertir outputs a booleanos usando classifyOutputs\n",
    "    boolOutputs = classifyOutputs(outputs)\n",
    "    \n",
    "    # Llamar a la función de confusión anterior con los valores convertidos\n",
    "    return confusionMatrix(boolOutputs, targets; weighted=weighted)\n",
    "end\n",
    "    "
   ]
  },
  {
   "cell_type": "code",
   "execution_count": 237,
   "id": "1bed49c2",
   "metadata": {},
   "outputs": [
    {
     "name": "stdout",
     "output_type": "stream",
     "text": [
      "Accuracy: 0.7333333333333333\n",
      "Error Rate: 0.2666666666666667\n",
      "Mean Sensitivity: 0.6000000000000001\n",
      "Mean Specificity: 0.8166666666666667\n",
      "Mean PPV: 0.6000000000000001\n",
      "Mean NPV: 0.8166666666666667\n",
      "Mean F-score: 0.6000000000000001\n",
      "Global Confusion Matrix: \n",
      "[2 0 0; 0 0 1; 0 1 1]\n"
     ]
    }
   ],
   "source": [
    "# Create sample real-valued outputs (predictions)\n",
    "outputs = [\n",
    "    0.8 0.1 0.4;\n",
    "    0.3 0.7 0.9;\n",
    "    0.6 0.2 0.1;\n",
    "    0.4 0.6 0.8;\n",
    "    0.2 0.5 0.3\n",
    "]\n",
    "\n",
    "# Create corresponding true binary labels (targets)\n",
    "targets = [\n",
    "    true false false;\n",
    "    false true false;\n",
    "    true false false;\n",
    "    false false true;\n",
    "    false false true\n",
    "]\n",
    "\n",
    "# Run the confusion matrix function\n",
    "accuracy, error_rate, sensitivityMean, specificityMean, PPVMean, NPVMean, FscoreMean, globalCMatrix = confusionMatrix(outputs, targets; weighted=true)\n",
    "\n",
    "# Print the results\n",
    "println(\"Accuracy: \", accuracy)\n",
    "println(\"Error Rate: \", error_rate)\n",
    "println(\"Mean Sensitivity: \", sensitivityMean)\n",
    "println(\"Mean Specificity: \", specificityMean)\n",
    "println(\"Mean PPV: \", PPVMean)\n",
    "println(\"Mean NPV: \", NPVMean)\n",
    "println(\"Mean F-score: \", FscoreMean)\n",
    "println(\"Global Confusion Matrix: \")\n",
    "println(globalCMatrix)\n"
   ]
  },
  {
   "cell_type": "markdown",
   "id": "291a54a9",
   "metadata": {},
   "source": [
    "4. Override this function once again by developing another function of the same name that performs the same task, but this time taking as inputs two vectors (`targets` and `outputs`) of the same length, whose elements are of any type (i.e., they are of type `AbstractArray{<:Any}`), plus the additional parameter that allows to aggregate the metrics through the *macro* and *weighted* strategies. The elements of these vectors represent the classes, represented in different ways. For example, classes can be [\"dog\", \"cat\", 3].\n",
    "\n",
    "    Obviously, it is necessary that all the output classes (vector `outputs`) are included in the desired output classes (vector `targets`). Include, therefore, a defensive programming line to ensure this.\n",
    "    \n",
    "      - Write this line without any loop. To do this, it may be useful to refer to the functions `all`, `in` and `unique`. At the end of this assignment, the solution of how to do this line is given.\n",
    "        \n",
    "      - As you will see in the following assignment, this line should not really be there, since it is possible that some produced output is not among among the desired outputs. This line is another example of a small exercise to practice vector programming, but once the practice is done it should be temporarily removed. The following assignment excludes the possibility of this happening by splitting the patterns in an stratified way, so this line can be added again.\n",
    "        \n",
    "        ### Question\n",
    "        \n",
    "        How is it possible that an output is not among the desired outputs? In which cases can this occur?\n",
    "        \n",
    "        `If a classification model trained on a dataset with classes [\"dog\", \"cat\"] encounters a new class [\"hamster\"] during inference, the output may include this new class, leading to an error if it is not present in the training labels (targets).`\n",
    "        \n",
    "    To develop this function, it is necessary to first take the possible classes of both `outputs` and `targets` by means of the `unique` function. Once this is done, both matrices, `outputs` and `targets`, will be encoded through the function `oneHotEncoding` passing as argument this vector of classes just calculated. With the result of these two encodings, the `confusionMatrix` function can be called.\n",
    "    \n",
    "    ### Question\n",
    "    \n",
    "    It is important that the class vector is calculated first and passed in both calls. What could happen if this is not done in this way?\n",
    "    \n",
    "    `If the class vector is not consistently calculated and passed for both outputs and targets, the one-hot encoding may not align correctly. Misalignment of classes, where certain classes may not be properly encoded, potentially leading to incorrect confusion matrix metrics`"
   ]
  },
  {
   "cell_type": "code",
   "execution_count": 238,
   "id": "117a3eb2",
   "metadata": {},
   "outputs": [
    {
     "data": {
      "text/plain": [
       "confusionMatrix (generic function with 6 methods)"
      ]
     },
     "metadata": {},
     "output_type": "display_data"
    }
   ],
   "source": [
    "function confusionMatrix(outputs::AbstractArray{<:Any,1}, targets::AbstractArray{<:Any,1}; weighted::Bool=true)\n",
    "\n",
    "    @assert(length(outputs) == length(targets))\n",
    "    @assert(all([in(output, unique(targets)) for output in outputs]))\n",
    "    \n",
    "    classesVector = unique([targets..., outputs...])\n",
    "\n",
    "    encodedTargets = oneHotEncoding(targets, classesVector)\n",
    "    encodedOutputs = oneHotEncoding(outputs, classesVector)\n",
    "\n",
    "    return confusionMatrix(encodedOutputs, encodedTargets; weighted=weighted)\n",
    "\n",
    "end "
   ]
  },
  {
   "cell_type": "code",
   "execution_count": 239,
   "id": "472abc82",
   "metadata": {},
   "outputs": [
    {
     "name": "stdout",
     "output_type": "stream",
     "text": [
      "Accuracy: 0.7333333333333333\n",
      "Error Rate: 0.2666666666666667\n",
      "Sensitivity (Recall): 0.6\n",
      "Specificity: 0.65\n",
      "Positive Predictive Value (PPV): 0.6\n",
      "Negative Predictive Value (NPV): 0.65\n",
      "F-Score: 0.6\n",
      "Confusion Matrix:\n",
      "[2 1 0; 1 0 0; 0 0 1]\n"
     ]
    }
   ],
   "source": [
    "# Example of running the function\n",
    "outputs = [\"dog\", \"cat\", \"dog\", \"dog\", \"hamster\"]\n",
    "targets = [\"dog\", \"dog\", \"cat\", \"dog\", \"hamster\"]\n",
    "\n",
    "# Assuming you have a confusionMatrix function defined for 2D arrays\n",
    "accuracy, error_rate, sensitivityMean, specificityMean, PPVMean, NPVMean, FscoreMean, globalCMatrix = confusionMatrix(outputs, targets; weighted=true)\n",
    "\n",
    "println(\"Accuracy: \", accuracy)\n",
    "println(\"Error Rate: \", error_rate)\n",
    "println(\"Sensitivity (Recall): \", sensitivityMean)\n",
    "println(\"Specificity: \", specificityMean)\n",
    "println(\"Positive Predictive Value (PPV): \", PPVMean)\n",
    "println(\"Negative Predictive Value (NPV): \", NPVMean)\n",
    "println(\"F-Score: \", FscoreMean)\n",
    "println(\"Confusion Matrix:\\n\", globalCMatrix)"
   ]
  },
  {
   "cell_type": "markdown",
   "id": "adf09566",
   "metadata": {},
   "source": [
    "### Learn Julia\n",
    "\n",
    "The defensive programming line to ensure that all classes of the `output` vector are included in the desired output vector is as follows:\n",
    "\n",
    "```Julia\n",
    "@assert(all([in(output, unique(targets)) for output in outputs]))\n",
    "```"
   ]
  },
  {
   "cell_type": "code",
   "execution_count": 240,
   "id": "00268f0a",
   "metadata": {},
   "outputs": [
    {
     "ename": "AssertionError",
     "evalue": "AssertionError: all([output in unique(targets) for output = outputs])",
     "output_type": "error",
     "traceback": [
      "AssertionError: all([output in unique(targets) for output = outputs])\n",
      "\n",
      "Stacktrace:\n",
      " [1] confusionMatrix(outputs::Vector{String}, targets::Vector{String}; weighted::Bool)\n",
      "   @ Main ~/Documents/MIA/ML1/MIA_ML1/jl_notebook_cell_df34fa98e69747e1a8f8a730347b8e2f_X44sZmlsZQ==.jl:4\n",
      " [2] top-level scope\n",
      "   @ ~/Documents/MIA/ML1/MIA_ML1/jl_notebook_cell_df34fa98e69747e1a8f8a730347b8e2f_X46sZmlsZQ==.jl:6"
     ]
    }
   ],
   "source": [
    "# Example of running the function\n",
    "outputs = [\"dog\", \"cat\", \"dog\", \"dog\", \"hamster\", \"horse\"]\n",
    "targets = [\"dog\", \"dog\", \"cat\", \"dog\", \"hamster\", \"dog\"]\n",
    "\n",
    "# Assuming you have a confusionMatrix function defined for 2D arrays\n",
    "accuracy, error_rate, sensitivityMean, specificityMean, PPVMean, NPVMean, FscoreMean, globalCMatrix = confusionMatrix(outputs, targets; weighted=true)\n",
    "\n",
    "println(\"Accuracy: \", accuracy)\n",
    "println(\"Error Rate: \", error_rate)\n",
    "println(\"Sensitivity (Recall): \", sensitivityMean)\n",
    "println(\"Specificity: \", specificityMean)\n",
    "println(\"Positive Predictive Value (PPV): \", PPVMean)\n",
    "println(\"Negative Predictive Value (NPV): \", NPVMean)\n",
    "println(\"F-Score: \", FscoreMean)\n",
    "println(\"Confusion Matrix:\\n\", globalCMatrix)"
   ]
  }
 ],
 "metadata": {
  "kernelspec": {
   "display_name": "Julia 1.10.5",
   "language": "julia",
   "name": "julia-1.10"
  },
  "language_info": {
   "file_extension": ".jl",
   "mimetype": "application/julia",
   "name": "julia",
   "version": "1.10.5"
  }
 },
 "nbformat": 4,
 "nbformat_minor": 5
}
